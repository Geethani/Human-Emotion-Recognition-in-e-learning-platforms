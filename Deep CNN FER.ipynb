{
  "nbformat": 4,
  "nbformat_minor": 0,
  "metadata": {
    "colab": {
      "name": "Copy of Copy of Review 1 FER DL.ipynb",
      "provenance": [],
      "collapsed_sections": []
    },
    "kernelspec": {
      "name": "python3",
      "display_name": "Python 3"
    },
    "language_info": {
      "name": "python"
    },
    "accelerator": "GPU"
  },
  "cells": [
    {
      "cell_type": "markdown",
      "source": [
        "**Unzip the file**"
      ],
      "metadata": {
        "id": "7lrUwpvHTzss"
      }
    },
    {
      "cell_type": "code",
      "execution_count": 2,
      "metadata": {
        "colab": {
          "base_uri": "https://localhost:8080/"
        },
        "id": "hjbzLPs4g9X2",
        "outputId": "54136158-4d5f-488e-df92-bb7dcf9fb2a0"
      },
      "outputs": [
        {
          "output_type": "stream",
          "name": "stdout",
          "text": [
            "Done\n"
          ]
        }
      ],
      "source": [
        "from zipfile import ZipFile\n",
        "file_name = \"/content/drive/MyDrive/fer2013.zip\"\n",
        "\n",
        "with ZipFile(file_name, 'r') as zip:\n",
        "  zip.extractall()\n",
        "  print(\"Done\")"
      ]
    },
    {
      "cell_type": "markdown",
      "source": [
        "**Import the Libraries**"
      ],
      "metadata": {
        "id": "AKoyixDBT2iY"
      }
    },
    {
      "cell_type": "code",
      "source": [
        "import numpy as np\n",
        "import cv2\n",
        "from tensorflow.keras.models import Sequential\n",
        "from tensorflow.keras.layers import Dense, Dropout, Flatten\n",
        "from tensorflow.keras.layers import Conv2D\n",
        "from tensorflow.keras.optimizers import Adam\n",
        "from tensorflow.keras.layers import MaxPooling2D\n",
        "from tensorflow.keras.preprocessing.image import ImageDataGenerator"
      ],
      "metadata": {
        "id": "LemMey2J0idd"
      },
      "execution_count": 3,
      "outputs": []
    },
    {
      "cell_type": "markdown",
      "source": [
        "**Initializing Training And Test Generators:**"
      ],
      "metadata": {
        "id": "x_HXOlzPUYCu"
      }
    },
    {
      "cell_type": "code",
      "source": [
        "TRAIN_DIR = 'train'\n",
        "datagen = ImageDataGenerator(validation_split=0.2, rescale=1./255)\n",
        "train_generator = datagen.flow_from_directory(\n",
        "    TRAIN_DIR, \n",
        "    target_size=(48,48),\n",
        "    subset='training',\n",
        "    batch_size=64,\n",
        "    color_mode=\"grayscale\",\n",
        "    class_mode='categorical'\n",
        ")\n",
        "\n",
        "val_generator = datagen.flow_from_directory(\n",
        "    TRAIN_DIR,\n",
        "    target_size=(48,48),\n",
        "    subset='validation',\n",
        "    batch_size=64,\n",
        "    color_mode=\"grayscale\",\n",
        "    class_mode='categorical'\n",
        ")"
      ],
      "metadata": {
        "colab": {
          "base_uri": "https://localhost:8080/"
        },
        "id": "lfVsAOk8w1JT",
        "outputId": "0e0adbb4-822d-4a8e-bf1b-f9f0d489fce6"
      },
      "execution_count": 4,
      "outputs": [
        {
          "output_type": "stream",
          "name": "stdout",
          "text": [
            "Found 22968 images belonging to 7 classes.\n",
            "Found 5741 images belonging to 7 classes.\n"
          ]
        }
      ]
    },
    {
      "cell_type": "code",
      "source": [
        "test_data = 'test'"
      ],
      "metadata": {
        "id": "wA9SXJHhxwi-"
      },
      "execution_count": 5,
      "outputs": []
    },
    {
      "cell_type": "markdown",
      "source": [
        "**Building the Convolutional Neural Network (CNN) Model**"
      ],
      "metadata": {
        "id": "RUHwwxe-Uc2t"
      }
    },
    {
      "cell_type": "code",
      "source": [
        "_LABELS = ['angry', 'disgust', 'fear', 'happy',\n",
        "           'sad', 'suprise', 'neutral']"
      ],
      "metadata": {
        "id": "uS-PvyfX0CMI"
      },
      "execution_count": 13,
      "outputs": []
    },
    {
      "cell_type": "code",
      "source": [
        "from keras.layers import Input, Reshape, Dense, Dropout\n",
        "from keras.callbacks import TensorBoard, ModelCheckpoint, EarlyStopping\n",
        "from keras.callbacks import ReduceLROnPlateau\n",
        "from keras.layers import Activation, Flatten\n",
        "from keras.layers import Input, Reshape, Dense, Dropout\n",
        "from keras.layers import Conv2D, BatchNormalization\n",
        "from keras.layers import MaxPooling2D, GlobalAveragePooling2D\n",
        "from keras.models import Model\n",
        "from tensorflow.keras.optimizers import Adam\n",
        "from tensorflow.keras.utils import to_categorical\n",
        "from sklearn.model_selection import train_test_split"
      ],
      "metadata": {
        "id": "McVf5P_9zY0r"
      },
      "execution_count": 10,
      "outputs": []
    },
    {
      "cell_type": "code",
      "source": [
        "inputs = Input((48, 48))\n",
        "reshaped_inputs = Reshape((48, 48, 1))(inputs)\n",
        "conv1 = Conv2D(kernel_size=[5, 5], strides=1, filters=32,\n",
        "                padding='same')(reshaped_inputs)\n",
        "bn1 = BatchNormalization()(conv1)\n",
        "conv1_2 = Conv2D(kernel_size=[5, 5], strides=1, filters=32,\n",
        "                  padding='same')(bn1)\n",
        "bn1_2 = BatchNormalization()(conv1_2)\n",
        "act_1 = Activation('relu')(bn1_2)\n",
        "pool1 = MaxPooling2D(pool_size=[2, 2], strides=2)(act_1)\n",
        "dropout_1 = Dropout(rate=0.3)(pool1)\n",
        "\n",
        "conv2 = Conv2D(kernel_size=[5, 5], strides=1, filters=64,\n",
        "                padding='same')(dropout_1)\n",
        "bn2 = BatchNormalization()(conv2)\n",
        "conv2_2 = Conv2D(kernel_size=[5, 5], strides=1, filters=64,\n",
        "                  padding='same')(bn2)\n",
        "bn2_2 = BatchNormalization()(conv2_2)\n",
        "act_2 = Activation('relu')(bn2_2)\n",
        "pool2 = MaxPooling2D(pool_size=[2, 2], strides=2)(act_2)\n",
        "dropout_2 = Dropout(rate=0.3)(pool2)\n",
        "\n",
        "conv3 = Conv2D(kernel_size=[3, 3], strides=1, filters=128,\n",
        "                padding='same')(dropout_2)\n",
        "bn3 = BatchNormalization()(conv3)\n",
        "conv3_2 = Conv2D(kernel_size=[3, 3], strides=1, filters=128,\n",
        "                  padding='same')(bn3)\n",
        "bn3_2 = BatchNormalization()(conv3_2)\n",
        "act_3 = Activation('relu')(bn3_2)\n",
        "pool3 = MaxPooling2D(pool_size=[2, 2], strides=2)(act_3)\n",
        "dropout_3 = Dropout(rate=0.3)(pool3)\n",
        "\n",
        "conv4 = Conv2D(kernel_size=[3, 3], strides=1, filters=128,\n",
        "                padding='same')(dropout_3)\n",
        "bn4 = BatchNormalization()(conv4)\n",
        "conv4_2 = Conv2D(kernel_size=[3, 3], strides=1, filters=128,\n",
        "                  padding='same')(bn4)\n",
        "bn4_2 = BatchNormalization()(conv4_2)\n",
        "act_4 = Activation('relu')(bn4_2)\n",
        "pool4 = MaxPooling2D(pool_size=[2, 2], strides=2)(act_4)\n",
        "dropout_4 = Dropout(rate=0.3)(pool4)\n",
        "\n",
        "flatten = GlobalAveragePooling2D()(pool4)\n",
        "dense = Dense(units=1024)(flatten)\n",
        "logits = Dense(len(_LABELS), activation='softmax')(dense)\n",
        "\n",
        "model = Model(inputs=inputs, outputs=logits)\n",
        "opt = Adam(lr=0.001)\n",
        "model.compile(optimizer=opt,\n",
        "              loss='categorical_crossentropy',\n",
        "              metrics=['accuracy'])"
      ],
      "metadata": {
        "colab": {
          "base_uri": "https://localhost:8080/"
        },
        "id": "apUQmuCbymSW",
        "outputId": "6c28e4f9-3154-498f-9bf6-5d9a7ba29f9c"
      },
      "execution_count": 14,
      "outputs": [
        {
          "output_type": "stream",
          "name": "stderr",
          "text": [
            "/usr/local/lib/python3.7/dist-packages/keras/optimizer_v2/adam.py:105: UserWarning: The `lr` argument is deprecated, use `learning_rate` instead.\n",
            "  super(Adam, self).__init__(name, **kwargs)\n"
          ]
        }
      ]
    },
    {
      "cell_type": "code",
      "source": [
        "model.summary()"
      ],
      "metadata": {
        "colab": {
          "base_uri": "https://localhost:8080/"
        },
        "id": "IVRS1XwFzFA0",
        "outputId": "0048af43-3bfd-4dda-e14e-e2ac3d2b9017"
      },
      "execution_count": 15,
      "outputs": [
        {
          "output_type": "stream",
          "name": "stdout",
          "text": [
            "Model: \"model\"\n",
            "_________________________________________________________________\n",
            " Layer (type)                Output Shape              Param #   \n",
            "=================================================================\n",
            " input_3 (InputLayer)        [(None, 48, 48)]          0         \n",
            "                                                                 \n",
            " reshape_2 (Reshape)         (None, 48, 48, 1)         0         \n",
            "                                                                 \n",
            " conv2d_10 (Conv2D)          (None, 48, 48, 32)        832       \n",
            "                                                                 \n",
            " batch_normalization_10 (Bat  (None, 48, 48, 32)       128       \n",
            " chNormalization)                                                \n",
            "                                                                 \n",
            " conv2d_11 (Conv2D)          (None, 48, 48, 32)        25632     \n",
            "                                                                 \n",
            " batch_normalization_11 (Bat  (None, 48, 48, 32)       128       \n",
            " chNormalization)                                                \n",
            "                                                                 \n",
            " activation_5 (Activation)   (None, 48, 48, 32)        0         \n",
            "                                                                 \n",
            " max_pooling2d_5 (MaxPooling  (None, 24, 24, 32)       0         \n",
            " 2D)                                                             \n",
            "                                                                 \n",
            " dropout_4 (Dropout)         (None, 24, 24, 32)        0         \n",
            "                                                                 \n",
            " conv2d_12 (Conv2D)          (None, 24, 24, 64)        51264     \n",
            "                                                                 \n",
            " batch_normalization_12 (Bat  (None, 24, 24, 64)       256       \n",
            " chNormalization)                                                \n",
            "                                                                 \n",
            " conv2d_13 (Conv2D)          (None, 24, 24, 64)        102464    \n",
            "                                                                 \n",
            " batch_normalization_13 (Bat  (None, 24, 24, 64)       256       \n",
            " chNormalization)                                                \n",
            "                                                                 \n",
            " activation_6 (Activation)   (None, 24, 24, 64)        0         \n",
            "                                                                 \n",
            " max_pooling2d_6 (MaxPooling  (None, 12, 12, 64)       0         \n",
            " 2D)                                                             \n",
            "                                                                 \n",
            " dropout_5 (Dropout)         (None, 12, 12, 64)        0         \n",
            "                                                                 \n",
            " conv2d_14 (Conv2D)          (None, 12, 12, 128)       73856     \n",
            "                                                                 \n",
            " batch_normalization_14 (Bat  (None, 12, 12, 128)      512       \n",
            " chNormalization)                                                \n",
            "                                                                 \n",
            " conv2d_15 (Conv2D)          (None, 12, 12, 128)       147584    \n",
            "                                                                 \n",
            " batch_normalization_15 (Bat  (None, 12, 12, 128)      512       \n",
            " chNormalization)                                                \n",
            "                                                                 \n",
            " activation_7 (Activation)   (None, 12, 12, 128)       0         \n",
            "                                                                 \n",
            " max_pooling2d_7 (MaxPooling  (None, 6, 6, 128)        0         \n",
            " 2D)                                                             \n",
            "                                                                 \n",
            " dropout_6 (Dropout)         (None, 6, 6, 128)         0         \n",
            "                                                                 \n",
            " conv2d_16 (Conv2D)          (None, 6, 6, 128)         147584    \n",
            "                                                                 \n",
            " batch_normalization_16 (Bat  (None, 6, 6, 128)        512       \n",
            " chNormalization)                                                \n",
            "                                                                 \n",
            " conv2d_17 (Conv2D)          (None, 6, 6, 128)         147584    \n",
            "                                                                 \n",
            " batch_normalization_17 (Bat  (None, 6, 6, 128)        512       \n",
            " chNormalization)                                                \n",
            "                                                                 \n",
            " activation_8 (Activation)   (None, 6, 6, 128)         0         \n",
            "                                                                 \n",
            " max_pooling2d_8 (MaxPooling  (None, 3, 3, 128)        0         \n",
            " 2D)                                                             \n",
            "                                                                 \n",
            " global_average_pooling2d_1   (None, 128)              0         \n",
            " (GlobalAveragePooling2D)                                        \n",
            "                                                                 \n",
            " dense_1 (Dense)             (None, 1024)              132096    \n",
            "                                                                 \n",
            " dense_2 (Dense)             (None, 7)                 7175      \n",
            "                                                                 \n",
            "=================================================================\n",
            "Total params: 838,887\n",
            "Trainable params: 837,479\n",
            "Non-trainable params: 1,408\n",
            "_________________________________________________________________\n"
          ]
        }
      ]
    },
    {
      "cell_type": "markdown",
      "source": [
        "**Compile the Model**"
      ],
      "metadata": {
        "id": "oRRwSbBeUl1r"
      }
    },
    {
      "cell_type": "code",
      "source": [
        "emotion_model.compile(loss='categorical_crossentropy',optimizer=Adam(learning_rate=0.0001, decay=1e-6),metrics=['accuracy'])"
      ],
      "metadata": {
        "id": "NrvaZ3RCUsPT"
      },
      "execution_count": null,
      "outputs": []
    },
    {
      "cell_type": "markdown",
      "source": [
        "**Train the Model**"
      ],
      "metadata": {
        "id": "TpITjuJ2UtJ4"
      }
    },
    {
      "cell_type": "code",
      "source": [
        "emotion_model_info = model.fit_generator(\n",
        "        train_generator,\n",
        "        epochs=100,\n",
        "        validation_data=val_generator)"
      ],
      "metadata": {
        "colab": {
          "base_uri": "https://localhost:8080/"
        },
        "id": "S1Ef1M1j1hmo",
        "outputId": "e740d5e7-6a4f-48b7-81c8-a9516270c68e"
      },
      "execution_count": 16,
      "outputs": [
        {
          "output_type": "stream",
          "name": "stderr",
          "text": [
            "/usr/local/lib/python3.7/dist-packages/ipykernel_launcher.py:4: UserWarning: `Model.fit_generator` is deprecated and will be removed in a future version. Please use `Model.fit`, which supports generators.\n",
            "  after removing the cwd from sys.path.\n"
          ]
        },
        {
          "output_type": "stream",
          "name": "stdout",
          "text": [
            "Epoch 1/100\n",
            "WARNING:tensorflow:Model was constructed with shape (None, 48, 48) for input KerasTensor(type_spec=TensorSpec(shape=(None, 48, 48), dtype=tf.float32, name='input_3'), name='input_3', description=\"created by layer 'input_3'\"), but it was called on an input with incompatible shape (None, None, None, None).\n",
            "WARNING:tensorflow:Model was constructed with shape (None, 48, 48) for input KerasTensor(type_spec=TensorSpec(shape=(None, 48, 48), dtype=tf.float32, name='input_3'), name='input_3', description=\"created by layer 'input_3'\"), but it was called on an input with incompatible shape (None, None, None, None).\n",
            "357/359 [============================>.] - ETA: 0s - loss: 1.7648 - accuracy: 0.2818WARNING:tensorflow:Model was constructed with shape (None, 48, 48) for input KerasTensor(type_spec=TensorSpec(shape=(None, 48, 48), dtype=tf.float32, name='input_3'), name='input_3', description=\"created by layer 'input_3'\"), but it was called on an input with incompatible shape (None, None, None, None).\n",
            "359/359 [==============================] - 26s 32ms/step - loss: 1.7647 - accuracy: 0.2818 - val_loss: 2.2213 - val_accuracy: 0.2116\n",
            "Epoch 2/100\n",
            "359/359 [==============================] - 10s 28ms/step - loss: 1.5136 - accuracy: 0.4093 - val_loss: 1.5464 - val_accuracy: 0.4088\n",
            "Epoch 3/100\n",
            "359/359 [==============================] - 10s 28ms/step - loss: 1.3683 - accuracy: 0.4761 - val_loss: 1.3207 - val_accuracy: 0.5022\n",
            "Epoch 4/100\n",
            "359/359 [==============================] - 11s 30ms/step - loss: 1.2989 - accuracy: 0.4973 - val_loss: 1.3738 - val_accuracy: 0.4835\n",
            "Epoch 5/100\n",
            "359/359 [==============================] - 10s 28ms/step - loss: 1.2489 - accuracy: 0.5224 - val_loss: 1.2399 - val_accuracy: 0.5327\n",
            "Epoch 6/100\n",
            "359/359 [==============================] - 10s 28ms/step - loss: 1.2114 - accuracy: 0.5391 - val_loss: 1.2178 - val_accuracy: 0.5276\n",
            "Epoch 7/100\n",
            "359/359 [==============================] - 10s 28ms/step - loss: 1.1796 - accuracy: 0.5520 - val_loss: 1.1978 - val_accuracy: 0.5403\n",
            "Epoch 8/100\n",
            "359/359 [==============================] - 11s 30ms/step - loss: 1.1526 - accuracy: 0.5639 - val_loss: 1.2895 - val_accuracy: 0.5112\n",
            "Epoch 9/100\n",
            "359/359 [==============================] - 10s 28ms/step - loss: 1.1335 - accuracy: 0.5700 - val_loss: 1.2483 - val_accuracy: 0.5133\n",
            "Epoch 10/100\n",
            "359/359 [==============================] - 11s 30ms/step - loss: 1.1067 - accuracy: 0.5777 - val_loss: 1.2616 - val_accuracy: 0.5307\n",
            "Epoch 11/100\n",
            "359/359 [==============================] - 10s 28ms/step - loss: 1.0907 - accuracy: 0.5861 - val_loss: 1.1797 - val_accuracy: 0.5490\n",
            "Epoch 12/100\n",
            "359/359 [==============================] - 10s 28ms/step - loss: 1.0745 - accuracy: 0.5943 - val_loss: 1.1314 - val_accuracy: 0.5725\n",
            "Epoch 13/100\n",
            "359/359 [==============================] - 10s 28ms/step - loss: 1.0539 - accuracy: 0.6001 - val_loss: 1.1800 - val_accuracy: 0.5713\n",
            "Epoch 14/100\n",
            "359/359 [==============================] - 10s 29ms/step - loss: 1.0362 - accuracy: 0.6100 - val_loss: 1.1458 - val_accuracy: 0.5673\n",
            "Epoch 15/100\n",
            "359/359 [==============================] - 10s 29ms/step - loss: 1.0252 - accuracy: 0.6127 - val_loss: 1.1002 - val_accuracy: 0.5903\n",
            "Epoch 16/100\n",
            "359/359 [==============================] - 11s 30ms/step - loss: 1.0002 - accuracy: 0.6224 - val_loss: 1.1455 - val_accuracy: 0.5795\n",
            "Epoch 17/100\n",
            "359/359 [==============================] - 10s 28ms/step - loss: 0.9912 - accuracy: 0.6271 - val_loss: 1.0747 - val_accuracy: 0.5933\n",
            "Epoch 18/100\n",
            "359/359 [==============================] - 10s 28ms/step - loss: 0.9718 - accuracy: 0.6321 - val_loss: 1.1097 - val_accuracy: 0.5759\n",
            "Epoch 19/100\n",
            "359/359 [==============================] - 10s 28ms/step - loss: 0.9578 - accuracy: 0.6403 - val_loss: 1.0719 - val_accuracy: 0.5952\n",
            "Epoch 20/100\n",
            "359/359 [==============================] - 10s 28ms/step - loss: 0.9407 - accuracy: 0.6470 - val_loss: 1.0736 - val_accuracy: 0.5976\n",
            "Epoch 21/100\n",
            "359/359 [==============================] - 10s 28ms/step - loss: 0.9326 - accuracy: 0.6474 - val_loss: 1.0837 - val_accuracy: 0.5999\n",
            "Epoch 22/100\n",
            "359/359 [==============================] - 10s 28ms/step - loss: 0.9154 - accuracy: 0.6560 - val_loss: 1.0663 - val_accuracy: 0.6015\n",
            "Epoch 23/100\n",
            "359/359 [==============================] - 10s 28ms/step - loss: 0.9015 - accuracy: 0.6614 - val_loss: 1.1018 - val_accuracy: 0.5875\n",
            "Epoch 24/100\n",
            "359/359 [==============================] - 10s 28ms/step - loss: 0.8909 - accuracy: 0.6648 - val_loss: 1.0786 - val_accuracy: 0.5971\n",
            "Epoch 25/100\n",
            "359/359 [==============================] - 10s 28ms/step - loss: 0.8799 - accuracy: 0.6689 - val_loss: 1.0816 - val_accuracy: 0.6093\n",
            "Epoch 26/100\n",
            "359/359 [==============================] - 10s 28ms/step - loss: 0.8624 - accuracy: 0.6761 - val_loss: 1.0625 - val_accuracy: 0.6015\n",
            "Epoch 27/100\n",
            "359/359 [==============================] - 10s 28ms/step - loss: 0.8570 - accuracy: 0.6779 - val_loss: 1.0633 - val_accuracy: 0.6070\n",
            "Epoch 28/100\n",
            "359/359 [==============================] - 10s 28ms/step - loss: 0.8417 - accuracy: 0.6824 - val_loss: 1.0637 - val_accuracy: 0.6152\n",
            "Epoch 29/100\n",
            "359/359 [==============================] - 10s 28ms/step - loss: 0.8285 - accuracy: 0.6897 - val_loss: 1.0448 - val_accuracy: 0.6211\n",
            "Epoch 30/100\n",
            "359/359 [==============================] - 10s 28ms/step - loss: 0.8199 - accuracy: 0.6937 - val_loss: 1.0361 - val_accuracy: 0.6171\n",
            "Epoch 31/100\n",
            "359/359 [==============================] - 11s 31ms/step - loss: 0.8076 - accuracy: 0.6954 - val_loss: 1.0622 - val_accuracy: 0.6170\n",
            "Epoch 32/100\n",
            "359/359 [==============================] - 10s 28ms/step - loss: 0.7978 - accuracy: 0.6989 - val_loss: 1.0683 - val_accuracy: 0.6182\n",
            "Epoch 33/100\n",
            "359/359 [==============================] - 10s 28ms/step - loss: 0.7880 - accuracy: 0.7053 - val_loss: 1.0671 - val_accuracy: 0.6189\n",
            "Epoch 34/100\n",
            "359/359 [==============================] - 10s 28ms/step - loss: 0.7780 - accuracy: 0.7065 - val_loss: 1.0632 - val_accuracy: 0.6306\n",
            "Epoch 35/100\n",
            "359/359 [==============================] - 10s 28ms/step - loss: 0.7528 - accuracy: 0.7170 - val_loss: 1.1236 - val_accuracy: 0.6156\n",
            "Epoch 36/100\n",
            "359/359 [==============================] - 10s 29ms/step - loss: 0.7490 - accuracy: 0.7215 - val_loss: 1.1049 - val_accuracy: 0.6043\n",
            "Epoch 37/100\n",
            "359/359 [==============================] - 14s 38ms/step - loss: 0.7346 - accuracy: 0.7251 - val_loss: 1.2245 - val_accuracy: 0.6039\n",
            "Epoch 38/100\n",
            "359/359 [==============================] - 10s 28ms/step - loss: 0.7262 - accuracy: 0.7293 - val_loss: 1.0936 - val_accuracy: 0.6170\n",
            "Epoch 39/100\n",
            "359/359 [==============================] - 10s 28ms/step - loss: 0.7100 - accuracy: 0.7348 - val_loss: 1.1494 - val_accuracy: 0.6140\n",
            "Epoch 40/100\n",
            "359/359 [==============================] - 10s 28ms/step - loss: 0.7077 - accuracy: 0.7368 - val_loss: 1.1578 - val_accuracy: 0.6145\n",
            "Epoch 41/100\n",
            "359/359 [==============================] - 10s 28ms/step - loss: 0.6953 - accuracy: 0.7412 - val_loss: 1.1517 - val_accuracy: 0.6147\n",
            "Epoch 42/100\n",
            "359/359 [==============================] - 10s 28ms/step - loss: 0.6840 - accuracy: 0.7437 - val_loss: 1.1191 - val_accuracy: 0.6198\n",
            "Epoch 43/100\n",
            "359/359 [==============================] - 10s 28ms/step - loss: 0.6762 - accuracy: 0.7460 - val_loss: 1.1713 - val_accuracy: 0.6203\n",
            "Epoch 44/100\n",
            "359/359 [==============================] - 11s 31ms/step - loss: 0.6672 - accuracy: 0.7505 - val_loss: 1.1232 - val_accuracy: 0.6175\n",
            "Epoch 45/100\n",
            "359/359 [==============================] - 10s 28ms/step - loss: 0.6471 - accuracy: 0.7588 - val_loss: 1.1100 - val_accuracy: 0.6206\n",
            "Epoch 46/100\n",
            "359/359 [==============================] - 11s 31ms/step - loss: 0.6521 - accuracy: 0.7556 - val_loss: 1.1851 - val_accuracy: 0.6043\n",
            "Epoch 47/100\n",
            "359/359 [==============================] - 10s 28ms/step - loss: 0.6368 - accuracy: 0.7604 - val_loss: 1.2139 - val_accuracy: 0.6135\n",
            "Epoch 48/100\n",
            "359/359 [==============================] - 10s 28ms/step - loss: 0.6259 - accuracy: 0.7638 - val_loss: 1.1590 - val_accuracy: 0.6159\n",
            "Epoch 49/100\n",
            "359/359 [==============================] - 10s 28ms/step - loss: 0.6105 - accuracy: 0.7747 - val_loss: 1.1530 - val_accuracy: 0.6199\n",
            "Epoch 50/100\n",
            "359/359 [==============================] - 10s 28ms/step - loss: 0.6141 - accuracy: 0.7710 - val_loss: 1.2105 - val_accuracy: 0.6133\n",
            "Epoch 51/100\n",
            "359/359 [==============================] - 10s 28ms/step - loss: 0.6007 - accuracy: 0.7779 - val_loss: 1.1573 - val_accuracy: 0.6161\n",
            "Epoch 52/100\n",
            "359/359 [==============================] - 10s 28ms/step - loss: 0.5988 - accuracy: 0.7757 - val_loss: 1.1667 - val_accuracy: 0.6290\n",
            "Epoch 53/100\n",
            "359/359 [==============================] - 10s 29ms/step - loss: 0.5905 - accuracy: 0.7794 - val_loss: 1.1722 - val_accuracy: 0.6220\n",
            "Epoch 54/100\n",
            "359/359 [==============================] - 10s 29ms/step - loss: 0.5824 - accuracy: 0.7823 - val_loss: 1.1966 - val_accuracy: 0.6191\n",
            "Epoch 55/100\n",
            "359/359 [==============================] - 11s 30ms/step - loss: 0.5764 - accuracy: 0.7839 - val_loss: 1.1823 - val_accuracy: 0.6222\n",
            "Epoch 56/100\n",
            "359/359 [==============================] - 10s 29ms/step - loss: 0.5641 - accuracy: 0.7898 - val_loss: 1.2209 - val_accuracy: 0.6300\n",
            "Epoch 57/100\n",
            "359/359 [==============================] - 10s 28ms/step - loss: 0.5657 - accuracy: 0.7897 - val_loss: 1.1572 - val_accuracy: 0.6264\n",
            "Epoch 58/100\n",
            "359/359 [==============================] - 10s 28ms/step - loss: 0.5502 - accuracy: 0.7942 - val_loss: 1.2240 - val_accuracy: 0.6267\n",
            "Epoch 59/100\n",
            "359/359 [==============================] - 10s 28ms/step - loss: 0.5427 - accuracy: 0.8014 - val_loss: 1.2054 - val_accuracy: 0.6178\n",
            "Epoch 60/100\n",
            "359/359 [==============================] - 10s 28ms/step - loss: 0.5358 - accuracy: 0.8026 - val_loss: 1.1811 - val_accuracy: 0.6265\n",
            "Epoch 61/100\n",
            "359/359 [==============================] - 10s 29ms/step - loss: 0.5263 - accuracy: 0.8029 - val_loss: 1.3551 - val_accuracy: 0.6150\n",
            "Epoch 62/100\n",
            "359/359 [==============================] - 11s 29ms/step - loss: 0.5350 - accuracy: 0.7993 - val_loss: 1.2628 - val_accuracy: 0.6278\n",
            "Epoch 63/100\n",
            "359/359 [==============================] - 11s 30ms/step - loss: 0.5136 - accuracy: 0.8106 - val_loss: 1.2079 - val_accuracy: 0.6225\n",
            "Epoch 64/100\n",
            "359/359 [==============================] - 10s 28ms/step - loss: 0.5191 - accuracy: 0.8073 - val_loss: 1.2354 - val_accuracy: 0.6204\n",
            "Epoch 65/100\n",
            "359/359 [==============================] - 10s 29ms/step - loss: 0.5099 - accuracy: 0.8100 - val_loss: 1.2667 - val_accuracy: 0.6224\n",
            "Epoch 66/100\n",
            "359/359 [==============================] - 10s 29ms/step - loss: 0.4990 - accuracy: 0.8127 - val_loss: 1.2776 - val_accuracy: 0.6224\n",
            "Epoch 67/100\n",
            "359/359 [==============================] - 10s 28ms/step - loss: 0.5089 - accuracy: 0.8093 - val_loss: 1.2337 - val_accuracy: 0.6262\n",
            "Epoch 68/100\n",
            "359/359 [==============================] - 10s 29ms/step - loss: 0.4871 - accuracy: 0.8191 - val_loss: 1.2713 - val_accuracy: 0.6241\n",
            "Epoch 69/100\n",
            "359/359 [==============================] - 10s 28ms/step - loss: 0.4841 - accuracy: 0.8223 - val_loss: 1.2466 - val_accuracy: 0.6199\n",
            "Epoch 70/100\n",
            "359/359 [==============================] - 11s 29ms/step - loss: 0.4756 - accuracy: 0.8244 - val_loss: 1.2873 - val_accuracy: 0.6274\n",
            "Epoch 71/100\n",
            "359/359 [==============================] - 10s 28ms/step - loss: 0.4813 - accuracy: 0.8233 - val_loss: 1.2541 - val_accuracy: 0.6253\n",
            "Epoch 72/100\n",
            "359/359 [==============================] - 10s 28ms/step - loss: 0.4641 - accuracy: 0.8277 - val_loss: 1.2616 - val_accuracy: 0.6286\n",
            "Epoch 73/100\n",
            "359/359 [==============================] - 10s 28ms/step - loss: 0.4651 - accuracy: 0.8270 - val_loss: 1.2949 - val_accuracy: 0.6246\n",
            "Epoch 74/100\n",
            "359/359 [==============================] - 10s 28ms/step - loss: 0.4569 - accuracy: 0.8301 - val_loss: 1.3163 - val_accuracy: 0.6234\n",
            "Epoch 75/100\n",
            "359/359 [==============================] - 10s 28ms/step - loss: 0.4533 - accuracy: 0.8322 - val_loss: 1.2842 - val_accuracy: 0.6250\n",
            "Epoch 76/100\n",
            "359/359 [==============================] - 12s 33ms/step - loss: 0.4564 - accuracy: 0.8310 - val_loss: 1.3411 - val_accuracy: 0.6192\n",
            "Epoch 77/100\n",
            "359/359 [==============================] - 10s 28ms/step - loss: 0.4532 - accuracy: 0.8349 - val_loss: 1.3034 - val_accuracy: 0.6199\n",
            "Epoch 78/100\n",
            "359/359 [==============================] - 10s 28ms/step - loss: 0.4293 - accuracy: 0.8388 - val_loss: 1.3206 - val_accuracy: 0.6265\n",
            "Epoch 79/100\n",
            "359/359 [==============================] - 10s 28ms/step - loss: 0.4379 - accuracy: 0.8385 - val_loss: 1.3663 - val_accuracy: 0.6142\n",
            "Epoch 80/100\n",
            "359/359 [==============================] - 10s 28ms/step - loss: 0.4351 - accuracy: 0.8396 - val_loss: 1.2973 - val_accuracy: 0.6142\n",
            "Epoch 81/100\n",
            "359/359 [==============================] - 10s 28ms/step - loss: 0.4227 - accuracy: 0.8432 - val_loss: 1.3010 - val_accuracy: 0.6231\n",
            "Epoch 82/100\n",
            "359/359 [==============================] - 10s 28ms/step - loss: 0.4272 - accuracy: 0.8414 - val_loss: 1.3297 - val_accuracy: 0.6213\n",
            "Epoch 83/100\n",
            "359/359 [==============================] - 10s 28ms/step - loss: 0.4223 - accuracy: 0.8458 - val_loss: 1.3787 - val_accuracy: 0.6206\n",
            "Epoch 84/100\n",
            "359/359 [==============================] - 10s 29ms/step - loss: 0.4146 - accuracy: 0.8467 - val_loss: 1.3771 - val_accuracy: 0.6243\n",
            "Epoch 85/100\n",
            "359/359 [==============================] - 10s 28ms/step - loss: 0.4143 - accuracy: 0.8469 - val_loss: 1.3755 - val_accuracy: 0.6234\n",
            "Epoch 86/100\n",
            "359/359 [==============================] - 10s 28ms/step - loss: 0.4118 - accuracy: 0.8444 - val_loss: 1.3925 - val_accuracy: 0.6227\n",
            "Epoch 87/100\n",
            "359/359 [==============================] - 10s 28ms/step - loss: 0.4089 - accuracy: 0.8481 - val_loss: 1.4277 - val_accuracy: 0.6283\n",
            "Epoch 88/100\n",
            "359/359 [==============================] - 10s 28ms/step - loss: 0.3953 - accuracy: 0.8544 - val_loss: 1.4132 - val_accuracy: 0.6250\n",
            "Epoch 89/100\n",
            "359/359 [==============================] - 10s 29ms/step - loss: 0.3915 - accuracy: 0.8559 - val_loss: 1.4180 - val_accuracy: 0.6201\n",
            "Epoch 90/100\n",
            "359/359 [==============================] - 10s 28ms/step - loss: 0.3928 - accuracy: 0.8564 - val_loss: 1.4211 - val_accuracy: 0.6218\n",
            "Epoch 91/100\n",
            "359/359 [==============================] - 10s 28ms/step - loss: 0.3895 - accuracy: 0.8592 - val_loss: 1.4083 - val_accuracy: 0.6210\n",
            "Epoch 92/100\n",
            "359/359 [==============================] - 11s 31ms/step - loss: 0.3895 - accuracy: 0.8568 - val_loss: 1.4000 - val_accuracy: 0.6215\n",
            "Epoch 93/100\n",
            "359/359 [==============================] - 10s 28ms/step - loss: 0.3865 - accuracy: 0.8585 - val_loss: 1.4601 - val_accuracy: 0.6175\n",
            "Epoch 94/100\n",
            "359/359 [==============================] - 10s 28ms/step - loss: 0.3776 - accuracy: 0.8612 - val_loss: 1.3880 - val_accuracy: 0.6245\n",
            "Epoch 95/100\n",
            "359/359 [==============================] - 10s 29ms/step - loss: 0.3753 - accuracy: 0.8614 - val_loss: 1.3993 - val_accuracy: 0.6217\n",
            "Epoch 96/100\n",
            "359/359 [==============================] - 10s 28ms/step - loss: 0.3722 - accuracy: 0.8616 - val_loss: 1.3714 - val_accuracy: 0.6299\n",
            "Epoch 97/100\n",
            "359/359 [==============================] - 10s 29ms/step - loss: 0.3689 - accuracy: 0.8651 - val_loss: 1.3754 - val_accuracy: 0.6295\n",
            "Epoch 98/100\n",
            "359/359 [==============================] - 10s 28ms/step - loss: 0.3584 - accuracy: 0.8676 - val_loss: 1.5055 - val_accuracy: 0.6182\n",
            "Epoch 99/100\n",
            "359/359 [==============================] - 10s 28ms/step - loss: 0.3635 - accuracy: 0.8668 - val_loss: 1.4182 - val_accuracy: 0.6253\n",
            "Epoch 100/100\n",
            "359/359 [==============================] - 10s 28ms/step - loss: 0.3666 - accuracy: 0.8661 - val_loss: 1.4165 - val_accuracy: 0.6288\n"
          ]
        }
      ]
    },
    {
      "cell_type": "code",
      "source": [
        "\n",
        "test_datagen = ImageDataGenerator(rescale=1./255) \n",
        "test_dataset = test_datagen.flow_from_directory(test_data,target_size=(48,48),color_mode=\"grayscale\",\n",
        "    class_mode='categorical')"
      ],
      "metadata": {
        "colab": {
          "base_uri": "https://localhost:8080/"
        },
        "id": "s4TiGDTy4kFn",
        "outputId": "d1942f7d-fb2a-499f-ed9c-d5778861543d"
      },
      "execution_count": 17,
      "outputs": [
        {
          "output_type": "stream",
          "name": "stdout",
          "text": [
            "Found 7178 images belonging to 7 classes.\n"
          ]
        }
      ]
    },
    {
      "cell_type": "code",
      "source": [
        "test_hist = model.evaluate(test_dataset)"
      ],
      "metadata": {
        "colab": {
          "base_uri": "https://localhost:8080/"
        },
        "id": "JUzJT8wSvq0c",
        "outputId": "c25f9b63-3f6c-4b4e-9844-f7cc687ac066"
      },
      "execution_count": 18,
      "outputs": [
        {
          "output_type": "stream",
          "name": "stdout",
          "text": [
            "225/225 [==============================] - 5s 21ms/step - loss: 1.4095 - accuracy: 0.6330\n"
          ]
        }
      ]
    },
    {
      "cell_type": "code",
      "source": [
        "import matplotlib.pyplot as plt\n",
        "plt.title('Accuracy')\n",
        "plt.plot(emotion_model_info.history['accuracy'])\n",
        "plt.show()\n",
        "plt.title('loss')\n",
        "plt.plot(emotion_model_info.history['loss'])\n",
        "plt.show()"
      ],
      "metadata": {
        "colab": {
          "base_uri": "https://localhost:8080/",
          "height": 545
        },
        "id": "t9n1_DcAeMmb",
        "outputId": "593e1a54-c4cd-45b7-889b-d346bde62634"
      },
      "execution_count": 19,
      "outputs": [
        {
          "output_type": "display_data",
          "data": {
            "text/plain": [
              "<Figure size 432x288 with 1 Axes>"
            ],
            "image/png": "[encoded data removed]"
          },
          "metadata": {
            "needs_background": "light"
          }
        },
        {
          "output_type": "display_data",
          "data": {
            "text/plain": [
              "<Figure size 432x288 with 1 Axes>"
            ],
            "image/png": "[encoded data removed]"
          },
          "metadata": {
            "needs_background": "light"
          }
        }
      ]
    },
    {
      "cell_type": "code",
      "source": [
        "model.save('model.h58')"
      ],
      "metadata": {
        "id": "NadUzYRpLSje",
        "colab": {
          "base_uri": "https://localhost:8080/"
        },
        "outputId": "840bef11-6016-4d64-fdfe-f9d255352a43"
      },
      "execution_count": 20,
      "outputs": [
        {
          "output_type": "stream",
          "name": "stdout",
          "text": [
            "INFO:tensorflow:Assets written to: model.h58/assets\n"
          ]
        }
      ]
    },
    {
      "cell_type": "code",
      "source": [
        "from keras.models import load_model\n",
        "emotion_model = load_model('model.h5')"
      ],
      "metadata": {
        "id": "Sh6umlkiMV9t"
      },
      "execution_count": null,
      "outputs": []
    },
    {
      "cell_type": "code",
      "source": [
        "def emotion_analysis(emotions):\n",
        "    objects = ('angry', 'disgust', 'fear', 'happy', 'sad', 'surprise', 'neutral')\n",
        "    y_pos = np.arange(len(objects))\n",
        "    \n",
        "    plt.bar(y_pos, emotions, align='center', alpha=0.5)\n",
        "    plt.xticks(y_pos, objects)\n",
        "    plt.ylabel('percentage')\n",
        "    plt.title('emotion')\n",
        "    \n",
        "    plt.show()"
      ],
      "metadata": {
        "id": "77dLGtV7MiRA"
      },
      "execution_count": 21,
      "outputs": []
    },
    {
      "cell_type": "code",
      "source": [
        "import cv2\n",
        "\n",
        "#Testing a file.\n",
        "\n",
        "from keras.preprocessing import image\n",
        "from keras.preprocessing.image import ImageDataGenerator\n",
        "\n",
        "import numpy as np\n",
        "import matplotlib.pyplot as plt\n",
        "\n",
        "\n",
        "file = '/content/test/fear/PrivateTest_1540303.jpg'\n",
        "true_image = image.load_img(file)\n",
        "img = image.load_img(file, color_mode=\"grayscale\", target_size=(48, 48))\n",
        "\n",
        "x = image.img_to_array(img)\n",
        "x = np.expand_dims(x, axis = 0)\n",
        "\n",
        "x =x/ 255\n",
        "\n",
        "custom = model.predict(x)\n",
        "emotion_analysis(custom[0])\n",
        "\n",
        "x = np.array(x, 'float32')\n",
        "x = x.reshape([48, 48]);\n",
        "\n",
        "\n",
        "plt.imshow(true_image)\n",
        "plt.show()\n"
      ],
      "metadata": {
        "colab": {
          "base_uri": "https://localhost:8080/",
          "height": 531
        },
        "id": "pvwpkcsTMX6A",
        "outputId": "442ea5c8-b613-4048-e8ea-f7999844e013"
      },
      "execution_count": 23,
      "outputs": [
        {
          "output_type": "display_data",
          "data": {
            "text/plain": [
              "<Figure size 432x288 with 1 Axes>"
            ],
            "image/png": "[encoded data removed]"
          },
          "metadata": {
            "needs_background": "light"
          }
        },
        {
          "output_type": "display_data",
          "data": {
            "text/plain": [
              "<Figure size 432x288 with 1 Axes>"
            ],
            "image/png": "[encoded data removed]"
          },
          "metadata": {
            "needs_background": "light"
          }
        }
      ]
    },
    {
      "cell_type": "code",
      "source": [
        "from sklearn.metrics import confusion_matrix, classification_report\n",
        "import tensorflow as tf\n",
        "import seaborn as sn"
      ],
      "metadata": {
        "id": "sjg_QhQhVuj8"
      },
      "execution_count": 24,
      "outputs": []
    },
    {
      "cell_type": "code",
      "source": [
        "def performance_metrics(model, test):\n",
        "    y_pred = model.predict(test)\n",
        "    y_result = []\n",
        "    for p in y_pred:\n",
        "        y_result.append(np.argmax(p))\n",
        "    \n",
        "    y_actual = []\n",
        "    for i in range(len(test)):\n",
        "        for p in test[i][1]:\n",
        "            y_actual.append(np.argmax(p))\n",
        "    \n",
        "    print(classification_report(y_actual, y_result))\n",
        "    \n",
        "    cm = tf.math.confusion_matrix(labels = y_actual, predictions = y_result)\n",
        "\n",
        "    plt.figure(figsize = (10, 7))\n",
        "    sn.heatmap(cm, annot = True, fmt = 'd')\n",
        "    plt.xlabel('Predicted')\n",
        "    plt.ylabel('Truth')"
      ],
      "metadata": {
        "id": "BxBLi6pZMclu"
      },
      "execution_count": 25,
      "outputs": []
    },
    {
      "cell_type": "code",
      "source": [
        "performance_metrics(model, test_dataset)"
      ],
      "metadata": {
        "colab": {
          "base_uri": "https://localhost:8080/",
          "height": 739
        },
        "id": "C2n4S5UdVJpu",
        "outputId": "50f26d08-a4fc-4f3e-b63b-8c96ff077ef8"
      },
      "execution_count": 27,
      "outputs": [
        {
          "output_type": "stream",
          "name": "stdout",
          "text": [
            "WARNING:tensorflow:Model was constructed with shape (None, 48, 48) for input KerasTensor(type_spec=TensorSpec(shape=(None, 48, 48), dtype=tf.float32, name='input_3'), name='input_3', description=\"created by layer 'input_3'\"), but it was called on an input with incompatible shape (None, None, None, None).\n",
            "              precision    recall  f1-score   support\n",
            "\n",
            "           0       0.14      0.15      0.15       958\n",
            "           1       0.02      0.03      0.02       111\n",
            "           2       0.15      0.14      0.14      1024\n",
            "           3       0.26      0.26      0.26      1774\n",
            "           4       0.18      0.19      0.18      1233\n",
            "           5       0.16      0.14      0.15      1247\n",
            "           6       0.12      0.12      0.12       831\n",
            "\n",
            "    accuracy                           0.18      7178\n",
            "   macro avg       0.15      0.15      0.15      7178\n",
            "weighted avg       0.18      0.18      0.18      7178\n",
            "\n"
          ]
        },
        {
          "output_type": "display_data",
          "data": {
            "text/plain": [
              "<Figure size 720x504 with 2 Axes>"
            ],
            "image/png": "[encoded data removed]"
          },
          "metadata": {
            "needs_background": "light"
          }
        }
      ]
    },
    {
      "cell_type": "code",
      "source": [
        ""
      ],
      "metadata": {
        "id": "JrIS6k39WSZS"
      },
      "execution_count": null,
      "outputs": []
    }
  ]
}