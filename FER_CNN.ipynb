{
  "nbformat": 4,
  "nbformat_minor": 0,
  "metadata": {
    "colab": {
      "name": "FER CNN.ipynb",
      "provenance": [],
      "collapsed_sections": []
    },
    "kernelspec": {
      "name": "python3",
      "display_name": "Python 3"
    },
    "language_info": {
      "name": "python"
    },
    "accelerator": "GPU"
  },
  "cells": [
    {
      "cell_type": "markdown",
      "source": [
        "**Unzip the file**"
      ],
      "metadata": {
        "id": "7lrUwpvHTzss"
      }
    },
    {
      "cell_type": "code",
      "execution_count": null,
      "metadata": {
        "colab": {
          "base_uri": "https://localhost:8080/"
        },
        "id": "hjbzLPs4g9X2",
        "outputId": "d4068c58-b56f-4b76-e9dd-4cb22780ae5a"
      },
      "outputs": [
        {
          "output_type": "stream",
          "name": "stdout",
          "text": [
            "Done\n"
          ]
        }
      ],
      "source": [
        "from zipfile import ZipFile\n",
        "file_name = \"/content/drive/MyDrive/fer2013.zip\"\n",
        "\n",
        "with ZipFile(file_name, 'r') as zip:\n",
        "  zip.extractall()\n",
        "  print(\"Done\")"
      ]
    },
    {
      "cell_type": "markdown",
      "source": [
        "**Import the Libraries**"
      ],
      "metadata": {
        "id": "AKoyixDBT2iY"
      }
    },
    {
      "cell_type": "code",
      "source": [
        "import numpy as np\n",
        "import cv2\n",
        "from tensorflow.keras.models import Sequential\n",
        "from tensorflow.keras.layers import Dense, Dropout, Flatten\n",
        "from tensorflow.keras.layers import Conv2D\n",
        "from tensorflow.keras.optimizers import Adam\n",
        "from tensorflow.keras.layers import MaxPooling2D\n",
        "from tensorflow.keras.preprocessing.image import ImageDataGenerator"
      ],
      "metadata": {
        "id": "LemMey2J0idd"
      },
      "execution_count": null,
      "outputs": []
    },
    {
      "cell_type": "markdown",
      "source": [
        "**Initializing Training And Test Generators:**"
      ],
      "metadata": {
        "id": "x_HXOlzPUYCu"
      }
    },
    {
      "cell_type": "code",
      "source": [
        "TRAIN_DIR = 'train'\n",
        "datagen = ImageDataGenerator(validation_split=0.2, rescale=1./255)\n",
        "train_generator = datagen.flow_from_directory(\n",
        "    TRAIN_DIR, \n",
        "    target_size=(48,48),\n",
        "    subset='training',\n",
        "    batch_size=64,\n",
        "    color_mode=\"grayscale\",\n",
        "    class_mode='categorical'\n",
        ")\n",
        "\n",
        "val_generator = datagen.flow_from_directory(\n",
        "    TRAIN_DIR,\n",
        "    target_size=(48,48),\n",
        "    subset='validation',\n",
        "    batch_size=64,\n",
        "    color_mode=\"grayscale\",\n",
        "    class_mode='categorical'\n",
        ")"
      ],
      "metadata": {
        "colab": {
          "base_uri": "https://localhost:8080/"
        },
        "id": "lfVsAOk8w1JT",
        "outputId": "eab3bf81-14d2-4549-ae5d-d5190c4a9657"
      },
      "execution_count": null,
      "outputs": [
        {
          "output_type": "stream",
          "name": "stdout",
          "text": [
            "Found 22968 images belonging to 7 classes.\n",
            "Found 5741 images belonging to 7 classes.\n"
          ]
        }
      ]
    },
    {
      "cell_type": "code",
      "source": [
        "test_data = 'test'"
      ],
      "metadata": {
        "id": "wA9SXJHhxwi-"
      },
      "execution_count": null,
      "outputs": []
    },
    {
      "cell_type": "markdown",
      "source": [
        "**Building the Convolutional Neural Network (CNN) Model**"
      ],
      "metadata": {
        "id": "RUHwwxe-Uc2t"
      }
    },
    {
      "cell_type": "code",
      "source": [
        "emotion_model = Sequential()\n",
        "emotion_model.add(Conv2D(32, kernel_size=(3, 3), activation='relu', input_shape=(48,48,1)))\n",
        "emotion_model.add(Conv2D(64, kernel_size=(3, 3), activation='relu'))\n",
        "emotion_model.add(MaxPooling2D(pool_size=(2, 2)))\n",
        "emotion_model.add(Dropout(0.25))\n",
        "emotion_model.add(Conv2D(128, kernel_size=(3, 3), activation='relu'))\n",
        "emotion_model.add(MaxPooling2D(pool_size=(2, 2)))\n",
        "emotion_model.add(Conv2D(128, kernel_size=(3, 3), activation='relu'))\n",
        "emotion_model.add(MaxPooling2D(pool_size=(2, 2)))\n",
        "emotion_model.add(Dropout(0.25))\n",
        "emotion_model.add(Flatten())\n",
        "emotion_model.add(Dense(1024, activation='relu'))\n",
        "emotion_model.add(Dropout(0.5))\n",
        "emotion_model.add(Dense(7, activation='softmax'))"
      ],
      "metadata": {
        "id": "jXYdBsSO0-el"
      },
      "execution_count": null,
      "outputs": []
    },
    {
      "cell_type": "code",
      "source": [
        "emotion_model.summary()"
      ],
      "metadata": {
        "colab": {
          "base_uri": "https://localhost:8080/"
        },
        "id": "IVRS1XwFzFA0",
        "outputId": "cedbbfc5-c1c8-4c66-9c26-fd3b4bccb412"
      },
      "execution_count": null,
      "outputs": [
        {
          "output_type": "stream",
          "name": "stdout",
          "text": [
            "Model: \"sequential\"\n",
            "_________________________________________________________________\n",
            " Layer (type)                Output Shape              Param #   \n",
            "=================================================================\n",
            " conv2d (Conv2D)             (None, 46, 46, 32)        320       \n",
            "                                                                 \n",
            " conv2d_1 (Conv2D)           (None, 44, 44, 64)        18496     \n",
            "                                                                 \n",
            " max_pooling2d (MaxPooling2D  (None, 22, 22, 64)       0         \n",
            " )                                                               \n",
            "                                                                 \n",
            " dropout (Dropout)           (None, 22, 22, 64)        0         \n",
            "                                                                 \n",
            " conv2d_2 (Conv2D)           (None, 20, 20, 128)       73856     \n",
            "                                                                 \n",
            " max_pooling2d_1 (MaxPooling  (None, 10, 10, 128)      0         \n",
            " 2D)                                                             \n",
            "                                                                 \n",
            " conv2d_3 (Conv2D)           (None, 8, 8, 128)         147584    \n",
            "                                                                 \n",
            " max_pooling2d_2 (MaxPooling  (None, 4, 4, 128)        0         \n",
            " 2D)                                                             \n",
            "                                                                 \n",
            " dropout_1 (Dropout)         (None, 4, 4, 128)         0         \n",
            "                                                                 \n",
            " flatten (Flatten)           (None, 2048)              0         \n",
            "                                                                 \n",
            " dense (Dense)               (None, 1024)              2098176   \n",
            "                                                                 \n",
            " dropout_2 (Dropout)         (None, 1024)              0         \n",
            "                                                                 \n",
            " dense_1 (Dense)             (None, 7)                 7175      \n",
            "                                                                 \n",
            "=================================================================\n",
            "Total params: 2,345,607\n",
            "Trainable params: 2,345,607\n",
            "Non-trainable params: 0\n",
            "_________________________________________________________________\n"
          ]
        }
      ]
    },
    {
      "cell_type": "markdown",
      "source": [
        "**Compile the Model**"
      ],
      "metadata": {
        "id": "oRRwSbBeUl1r"
      }
    },
    {
      "cell_type": "code",
      "source": [
        "emotion_model.compile(loss='categorical_crossentropy',optimizer=Adam(learning_rate=0.0001, decay=1e-6),metrics=['accuracy'])"
      ],
      "metadata": {
        "id": "NrvaZ3RCUsPT"
      },
      "execution_count": null,
      "outputs": []
    },
    {
      "cell_type": "markdown",
      "source": [
        "**Train the Model**"
      ],
      "metadata": {
        "id": "TpITjuJ2UtJ4"
      }
    },
    {
      "cell_type": "code",
      "source": [
        "emotion_model_info = emotion_model.fit_generator(\n",
        "        train_generator,\n",
        "        epochs=100,\n",
        "        validation_data=val_generator)"
      ],
      "metadata": {
        "colab": {
          "base_uri": "https://localhost:8080/"
        },
        "id": "S1Ef1M1j1hmo",
        "outputId": "56bb169e-483d-4d5c-c2a9-287de8c6bf15"
      },
      "execution_count": null,
      "outputs": [
        {
          "output_type": "stream",
          "name": "stderr",
          "text": [
            "/usr/local/lib/python3.7/dist-packages/ipykernel_launcher.py:4: UserWarning: `Model.fit_generator` is deprecated and will be removed in a future version. Please use `Model.fit`, which supports generators.\n",
            "  after removing the cwd from sys.path.\n"
          ]
        },
        {
          "output_type": "stream",
          "name": "stdout",
          "text": [
            "Epoch 1/100\n",
            "359/359 [==============================] - 28s 43ms/step - loss: 1.8171 - accuracy: 0.2492 - val_loss: 1.7764 - val_accuracy: 0.2635\n",
            "Epoch 2/100\n",
            "359/359 [==============================] - 9s 26ms/step - loss: 1.6984 - accuracy: 0.3224 - val_loss: 1.6287 - val_accuracy: 0.3642\n",
            "Epoch 3/100\n",
            "359/359 [==============================] - 9s 26ms/step - loss: 1.5920 - accuracy: 0.3839 - val_loss: 1.5449 - val_accuracy: 0.4078\n",
            "Epoch 4/100\n",
            "359/359 [==============================] - 9s 26ms/step - loss: 1.5249 - accuracy: 0.4154 - val_loss: 1.4891 - val_accuracy: 0.4238\n",
            "Epoch 5/100\n",
            "359/359 [==============================] - 10s 27ms/step - loss: 1.4705 - accuracy: 0.4343 - val_loss: 1.4386 - val_accuracy: 0.4461\n",
            "Epoch 6/100\n",
            "359/359 [==============================] - 9s 26ms/step - loss: 1.4239 - accuracy: 0.4553 - val_loss: 1.3925 - val_accuracy: 0.4703\n",
            "Epoch 7/100\n",
            "359/359 [==============================] - 9s 26ms/step - loss: 1.3779 - accuracy: 0.4762 - val_loss: 1.3585 - val_accuracy: 0.4781\n",
            "Epoch 8/100\n",
            "359/359 [==============================] - 9s 26ms/step - loss: 1.3361 - accuracy: 0.4917 - val_loss: 1.3190 - val_accuracy: 0.4956\n",
            "Epoch 9/100\n",
            "359/359 [==============================] - 9s 26ms/step - loss: 1.3006 - accuracy: 0.5057 - val_loss: 1.2935 - val_accuracy: 0.5046\n",
            "Epoch 10/100\n",
            "359/359 [==============================] - 10s 28ms/step - loss: 1.2688 - accuracy: 0.5195 - val_loss: 1.2890 - val_accuracy: 0.5102\n",
            "Epoch 11/100\n",
            "359/359 [==============================] - 9s 26ms/step - loss: 1.2343 - accuracy: 0.5325 - val_loss: 1.2562 - val_accuracy: 0.5222\n",
            "Epoch 12/100\n",
            "359/359 [==============================] - 11s 30ms/step - loss: 1.2051 - accuracy: 0.5449 - val_loss: 1.2336 - val_accuracy: 0.5337\n",
            "Epoch 13/100\n",
            "359/359 [==============================] - 10s 28ms/step - loss: 1.1786 - accuracy: 0.5576 - val_loss: 1.2157 - val_accuracy: 0.5457\n",
            "Epoch 14/100\n",
            "359/359 [==============================] - 10s 28ms/step - loss: 1.1481 - accuracy: 0.5685 - val_loss: 1.1974 - val_accuracy: 0.5537\n",
            "Epoch 15/100\n",
            "359/359 [==============================] - 9s 26ms/step - loss: 1.1283 - accuracy: 0.5781 - val_loss: 1.1876 - val_accuracy: 0.5534\n",
            "Epoch 16/100\n",
            "359/359 [==============================] - 9s 26ms/step - loss: 1.0986 - accuracy: 0.5890 - val_loss: 1.1719 - val_accuracy: 0.5602\n",
            "Epoch 17/100\n",
            "359/359 [==============================] - 10s 26ms/step - loss: 1.0803 - accuracy: 0.5999 - val_loss: 1.1679 - val_accuracy: 0.5616\n",
            "Epoch 18/100\n",
            "359/359 [==============================] - 10s 27ms/step - loss: 1.0547 - accuracy: 0.6109 - val_loss: 1.1513 - val_accuracy: 0.5701\n",
            "Epoch 19/100\n",
            "359/359 [==============================] - 9s 26ms/step - loss: 1.0375 - accuracy: 0.6133 - val_loss: 1.1404 - val_accuracy: 0.5727\n",
            "Epoch 20/100\n",
            "359/359 [==============================] - 10s 27ms/step - loss: 1.0089 - accuracy: 0.6229 - val_loss: 1.1366 - val_accuracy: 0.5738\n",
            "Epoch 21/100\n",
            "359/359 [==============================] - 15s 41ms/step - loss: 0.9864 - accuracy: 0.6347 - val_loss: 1.1320 - val_accuracy: 0.5727\n",
            "Epoch 22/100\n",
            "359/359 [==============================] - 10s 26ms/step - loss: 0.9607 - accuracy: 0.6450 - val_loss: 1.1369 - val_accuracy: 0.5776\n",
            "Epoch 23/100\n",
            "359/359 [==============================] - 10s 27ms/step - loss: 0.9422 - accuracy: 0.6499 - val_loss: 1.1453 - val_accuracy: 0.5766\n",
            "Epoch 24/100\n",
            "359/359 [==============================] - 10s 27ms/step - loss: 0.9171 - accuracy: 0.6633 - val_loss: 1.1486 - val_accuracy: 0.5746\n",
            "Epoch 25/100\n",
            "359/359 [==============================] - 11s 30ms/step - loss: 0.8924 - accuracy: 0.6702 - val_loss: 1.1147 - val_accuracy: 0.5889\n",
            "Epoch 26/100\n",
            "359/359 [==============================] - 9s 26ms/step - loss: 0.8764 - accuracy: 0.6796 - val_loss: 1.1174 - val_accuracy: 0.5832\n",
            "Epoch 27/100\n",
            "359/359 [==============================] - 9s 26ms/step - loss: 0.8538 - accuracy: 0.6874 - val_loss: 1.1091 - val_accuracy: 0.5887\n",
            "Epoch 28/100\n",
            "359/359 [==============================] - 9s 26ms/step - loss: 0.8338 - accuracy: 0.6920 - val_loss: 1.1166 - val_accuracy: 0.5896\n",
            "Epoch 29/100\n",
            "359/359 [==============================] - 10s 27ms/step - loss: 0.8077 - accuracy: 0.7045 - val_loss: 1.1085 - val_accuracy: 0.5933\n",
            "Epoch 30/100\n",
            "359/359 [==============================] - 10s 26ms/step - loss: 0.7827 - accuracy: 0.7139 - val_loss: 1.1136 - val_accuracy: 0.5921\n",
            "Epoch 31/100\n",
            "359/359 [==============================] - 9s 26ms/step - loss: 0.7614 - accuracy: 0.7213 - val_loss: 1.1207 - val_accuracy: 0.5884\n",
            "Epoch 32/100\n",
            "359/359 [==============================] - 10s 26ms/step - loss: 0.7339 - accuracy: 0.7286 - val_loss: 1.1350 - val_accuracy: 0.5936\n",
            "Epoch 33/100\n",
            "359/359 [==============================] - 9s 26ms/step - loss: 0.7197 - accuracy: 0.7377 - val_loss: 1.1301 - val_accuracy: 0.5908\n",
            "Epoch 34/100\n",
            "359/359 [==============================] - 9s 26ms/step - loss: 0.6874 - accuracy: 0.7473 - val_loss: 1.1523 - val_accuracy: 0.5921\n",
            "Epoch 35/100\n",
            "359/359 [==============================] - 9s 26ms/step - loss: 0.6733 - accuracy: 0.7555 - val_loss: 1.1327 - val_accuracy: 0.5950\n",
            "Epoch 36/100\n",
            "359/359 [==============================] - 9s 26ms/step - loss: 0.6449 - accuracy: 0.7674 - val_loss: 1.1335 - val_accuracy: 0.5959\n",
            "Epoch 37/100\n",
            "359/359 [==============================] - 10s 26ms/step - loss: 0.6280 - accuracy: 0.7704 - val_loss: 1.1436 - val_accuracy: 0.6009\n",
            "Epoch 38/100\n",
            "359/359 [==============================] - 10s 27ms/step - loss: 0.6098 - accuracy: 0.7792 - val_loss: 1.1552 - val_accuracy: 0.5941\n",
            "Epoch 39/100\n",
            "359/359 [==============================] - 11s 29ms/step - loss: 0.5914 - accuracy: 0.7878 - val_loss: 1.1430 - val_accuracy: 0.6018\n",
            "Epoch 40/100\n",
            "359/359 [==============================] - 9s 26ms/step - loss: 0.5655 - accuracy: 0.7960 - val_loss: 1.1631 - val_accuracy: 0.6036\n",
            "Epoch 41/100\n",
            "359/359 [==============================] - 9s 26ms/step - loss: 0.5608 - accuracy: 0.7987 - val_loss: 1.1728 - val_accuracy: 0.5987\n",
            "Epoch 42/100\n",
            "359/359 [==============================] - 9s 26ms/step - loss: 0.5341 - accuracy: 0.8063 - val_loss: 1.1758 - val_accuracy: 0.6009\n",
            "Epoch 43/100\n",
            "359/359 [==============================] - 10s 27ms/step - loss: 0.5218 - accuracy: 0.8134 - val_loss: 1.1862 - val_accuracy: 0.5982\n",
            "Epoch 44/100\n",
            "359/359 [==============================] - 9s 26ms/step - loss: 0.4941 - accuracy: 0.8191 - val_loss: 1.1850 - val_accuracy: 0.5929\n",
            "Epoch 45/100\n",
            "359/359 [==============================] - 9s 26ms/step - loss: 0.4873 - accuracy: 0.8272 - val_loss: 1.2077 - val_accuracy: 0.5997\n",
            "Epoch 46/100\n",
            "359/359 [==============================] - 10s 27ms/step - loss: 0.4661 - accuracy: 0.8309 - val_loss: 1.1989 - val_accuracy: 0.6062\n",
            "Epoch 47/100\n",
            "359/359 [==============================] - 10s 27ms/step - loss: 0.4489 - accuracy: 0.8365 - val_loss: 1.2034 - val_accuracy: 0.6020\n",
            "Epoch 48/100\n",
            "359/359 [==============================] - 10s 27ms/step - loss: 0.4398 - accuracy: 0.8413 - val_loss: 1.2320 - val_accuracy: 0.6020\n",
            "Epoch 49/100\n",
            "359/359 [==============================] - 9s 26ms/step - loss: 0.4229 - accuracy: 0.8487 - val_loss: 1.2264 - val_accuracy: 0.6029\n",
            "Epoch 50/100\n",
            "359/359 [==============================] - 9s 26ms/step - loss: 0.4126 - accuracy: 0.8496 - val_loss: 1.2420 - val_accuracy: 0.6029\n",
            "Epoch 51/100\n",
            "359/359 [==============================] - 9s 26ms/step - loss: 0.4003 - accuracy: 0.8551 - val_loss: 1.2438 - val_accuracy: 0.6049\n",
            "Epoch 52/100\n",
            "359/359 [==============================] - 9s 26ms/step - loss: 0.3828 - accuracy: 0.8619 - val_loss: 1.2591 - val_accuracy: 0.6006\n",
            "Epoch 53/100\n",
            "359/359 [==============================] - 10s 27ms/step - loss: 0.3720 - accuracy: 0.8689 - val_loss: 1.2714 - val_accuracy: 0.6001\n",
            "Epoch 54/100\n",
            "359/359 [==============================] - 10s 27ms/step - loss: 0.3625 - accuracy: 0.8709 - val_loss: 1.2511 - val_accuracy: 0.6013\n",
            "Epoch 55/100\n",
            "359/359 [==============================] - 9s 26ms/step - loss: 0.3513 - accuracy: 0.8751 - val_loss: 1.2843 - val_accuracy: 0.6083\n",
            "Epoch 56/100\n",
            "359/359 [==============================] - 10s 26ms/step - loss: 0.3400 - accuracy: 0.8803 - val_loss: 1.3331 - val_accuracy: 0.6037\n",
            "Epoch 57/100\n",
            "359/359 [==============================] - 10s 27ms/step - loss: 0.3290 - accuracy: 0.8821 - val_loss: 1.3339 - val_accuracy: 0.6027\n",
            "Epoch 58/100\n",
            "359/359 [==============================] - 9s 26ms/step - loss: 0.3197 - accuracy: 0.8874 - val_loss: 1.3108 - val_accuracy: 0.6015\n",
            "Epoch 59/100\n",
            "359/359 [==============================] - 9s 26ms/step - loss: 0.3126 - accuracy: 0.8881 - val_loss: 1.3549 - val_accuracy: 0.6051\n",
            "Epoch 60/100\n",
            "359/359 [==============================] - 9s 26ms/step - loss: 0.2984 - accuracy: 0.8950 - val_loss: 1.3664 - val_accuracy: 0.6016\n",
            "Epoch 61/100\n",
            "359/359 [==============================] - 9s 26ms/step - loss: 0.2962 - accuracy: 0.8951 - val_loss: 1.3327 - val_accuracy: 0.5999\n",
            "Epoch 62/100\n",
            "359/359 [==============================] - 9s 26ms/step - loss: 0.2804 - accuracy: 0.9006 - val_loss: 1.3558 - val_accuracy: 0.6043\n",
            "Epoch 63/100\n",
            "359/359 [==============================] - 9s 26ms/step - loss: 0.2756 - accuracy: 0.9014 - val_loss: 1.3681 - val_accuracy: 0.6077\n",
            "Epoch 64/100\n",
            "359/359 [==============================] - 9s 26ms/step - loss: 0.2637 - accuracy: 0.9069 - val_loss: 1.3815 - val_accuracy: 0.6046\n",
            "Epoch 65/100\n",
            "359/359 [==============================] - 10s 27ms/step - loss: 0.2605 - accuracy: 0.9055 - val_loss: 1.4164 - val_accuracy: 0.6043\n",
            "Epoch 66/100\n",
            "359/359 [==============================] - 11s 30ms/step - loss: 0.2553 - accuracy: 0.9092 - val_loss: 1.4258 - val_accuracy: 0.6043\n",
            "Epoch 67/100\n",
            "359/359 [==============================] - 9s 26ms/step - loss: 0.2571 - accuracy: 0.9083 - val_loss: 1.3831 - val_accuracy: 0.6044\n",
            "Epoch 68/100\n",
            "359/359 [==============================] - 9s 26ms/step - loss: 0.2478 - accuracy: 0.9135 - val_loss: 1.4038 - val_accuracy: 0.6046\n",
            "Epoch 69/100\n",
            "359/359 [==============================] - 9s 26ms/step - loss: 0.2367 - accuracy: 0.9174 - val_loss: 1.4155 - val_accuracy: 0.6072\n",
            "Epoch 70/100\n",
            "359/359 [==============================] - 10s 27ms/step - loss: 0.2263 - accuracy: 0.9194 - val_loss: 1.4690 - val_accuracy: 0.6034\n",
            "Epoch 71/100\n",
            "359/359 [==============================] - 10s 27ms/step - loss: 0.2198 - accuracy: 0.9206 - val_loss: 1.4369 - val_accuracy: 0.6056\n",
            "Epoch 72/100\n",
            "359/359 [==============================] - 10s 27ms/step - loss: 0.2324 - accuracy: 0.9189 - val_loss: 1.4407 - val_accuracy: 0.6022\n",
            "Epoch 73/100\n",
            "359/359 [==============================] - 10s 27ms/step - loss: 0.2188 - accuracy: 0.9223 - val_loss: 1.4636 - val_accuracy: 0.6063\n",
            "Epoch 74/100\n",
            "359/359 [==============================] - 9s 26ms/step - loss: 0.2126 - accuracy: 0.9240 - val_loss: 1.4775 - val_accuracy: 0.6039\n",
            "Epoch 75/100\n",
            "359/359 [==============================] - 9s 26ms/step - loss: 0.2041 - accuracy: 0.9290 - val_loss: 1.4984 - val_accuracy: 0.6039\n",
            "Epoch 76/100\n",
            "359/359 [==============================] - 10s 27ms/step - loss: 0.2071 - accuracy: 0.9278 - val_loss: 1.4936 - val_accuracy: 0.6030\n",
            "Epoch 77/100\n",
            "359/359 [==============================] - 9s 26ms/step - loss: 0.2020 - accuracy: 0.9302 - val_loss: 1.5407 - val_accuracy: 0.6051\n",
            "Epoch 78/100\n",
            "359/359 [==============================] - 9s 26ms/step - loss: 0.1995 - accuracy: 0.9288 - val_loss: 1.4804 - val_accuracy: 0.6043\n",
            "Epoch 79/100\n",
            "359/359 [==============================] - 9s 26ms/step - loss: 0.1909 - accuracy: 0.9330 - val_loss: 1.5431 - val_accuracy: 0.6023\n",
            "Epoch 80/100\n",
            "359/359 [==============================] - 9s 26ms/step - loss: 0.1970 - accuracy: 0.9300 - val_loss: 1.5133 - val_accuracy: 0.6025\n",
            "Epoch 81/100\n",
            "359/359 [==============================] - 9s 26ms/step - loss: 0.1834 - accuracy: 0.9341 - val_loss: 1.5271 - val_accuracy: 0.6002\n",
            "Epoch 82/100\n",
            "359/359 [==============================] - 10s 27ms/step - loss: 0.1844 - accuracy: 0.9330 - val_loss: 1.5379 - val_accuracy: 0.6023\n",
            "Epoch 83/100\n",
            "359/359 [==============================] - 10s 26ms/step - loss: 0.1835 - accuracy: 0.9350 - val_loss: 1.4976 - val_accuracy: 0.6043\n",
            "Epoch 84/100\n",
            "359/359 [==============================] - 9s 26ms/step - loss: 0.1698 - accuracy: 0.9407 - val_loss: 1.5415 - val_accuracy: 0.6023\n",
            "Epoch 85/100\n",
            "359/359 [==============================] - 10s 27ms/step - loss: 0.1730 - accuracy: 0.9401 - val_loss: 1.5721 - val_accuracy: 0.6070\n",
            "Epoch 86/100\n",
            "359/359 [==============================] - 9s 26ms/step - loss: 0.1687 - accuracy: 0.9411 - val_loss: 1.5521 - val_accuracy: 0.6018\n",
            "Epoch 87/100\n",
            "359/359 [==============================] - 9s 26ms/step - loss: 0.1699 - accuracy: 0.9413 - val_loss: 1.5804 - val_accuracy: 0.6055\n",
            "Epoch 88/100\n",
            "359/359 [==============================] - 10s 27ms/step - loss: 0.1585 - accuracy: 0.9458 - val_loss: 1.5642 - val_accuracy: 0.6036\n",
            "Epoch 89/100\n",
            "359/359 [==============================] - 10s 27ms/step - loss: 0.1617 - accuracy: 0.9426 - val_loss: 1.6200 - val_accuracy: 0.6037\n",
            "Epoch 90/100\n",
            "359/359 [==============================] - 9s 26ms/step - loss: 0.1585 - accuracy: 0.9433 - val_loss: 1.5591 - val_accuracy: 0.6034\n",
            "Epoch 91/100\n",
            "359/359 [==============================] - 9s 26ms/step - loss: 0.1517 - accuracy: 0.9477 - val_loss: 1.5928 - val_accuracy: 0.6015\n",
            "Epoch 92/100\n",
            "359/359 [==============================] - 10s 27ms/step - loss: 0.1446 - accuracy: 0.9495 - val_loss: 1.6173 - val_accuracy: 0.5983\n",
            "Epoch 93/100\n",
            "359/359 [==============================] - 10s 28ms/step - loss: 0.1537 - accuracy: 0.9488 - val_loss: 1.6170 - val_accuracy: 0.6009\n",
            "Epoch 94/100\n",
            "359/359 [==============================] - 10s 28ms/step - loss: 0.1437 - accuracy: 0.9507 - val_loss: 1.6278 - val_accuracy: 0.6046\n",
            "Epoch 95/100\n",
            "359/359 [==============================] - 9s 26ms/step - loss: 0.1511 - accuracy: 0.9464 - val_loss: 1.5822 - val_accuracy: 0.6001\n",
            "Epoch 96/100\n",
            "359/359 [==============================] - 9s 26ms/step - loss: 0.1411 - accuracy: 0.9512 - val_loss: 1.6165 - val_accuracy: 0.5982\n",
            "Epoch 97/100\n",
            "359/359 [==============================] - 9s 26ms/step - loss: 0.1432 - accuracy: 0.9490 - val_loss: 1.6468 - val_accuracy: 0.5995\n",
            "Epoch 98/100\n",
            "359/359 [==============================] - 9s 26ms/step - loss: 0.1390 - accuracy: 0.9509 - val_loss: 1.6683 - val_accuracy: 0.5976\n",
            "Epoch 99/100\n",
            "359/359 [==============================] - 9s 26ms/step - loss: 0.1331 - accuracy: 0.9545 - val_loss: 1.6819 - val_accuracy: 0.6062\n",
            "Epoch 100/100\n",
            "359/359 [==============================] - 9s 26ms/step - loss: 0.1369 - accuracy: 0.9524 - val_loss: 1.6387 - val_accuracy: 0.6018\n"
          ]
        }
      ]
    },
    {
      "cell_type": "code",
      "source": [
        "\n",
        "test_datagen = ImageDataGenerator(rescale=1./255) \n",
        "test_dataset = test_datagen.flow_from_directory(test_data,target_size=(48,48),color_mode=\"grayscale\",\n",
        "    class_mode='categorical')"
      ],
      "metadata": {
        "colab": {
          "base_uri": "https://localhost:8080/"
        },
        "id": "s4TiGDTy4kFn",
        "outputId": "7bc05de4-3187-4298-f10b-82815945fe34"
      },
      "execution_count": null,
      "outputs": [
        {
          "output_type": "stream",
          "name": "stdout",
          "text": [
            "Found 7178 images belonging to 7 classes.\n"
          ]
        }
      ]
    },
    {
      "cell_type": "code",
      "source": [
        "test_hist = emotion_model.evaluate(test_dataset)"
      ],
      "metadata": {
        "colab": {
          "base_uri": "https://localhost:8080/"
        },
        "id": "JUzJT8wSvq0c",
        "outputId": "4e07d20a-04bb-402f-9bea-3baf40baa524"
      },
      "execution_count": null,
      "outputs": [
        {
          "output_type": "stream",
          "name": "stdout",
          "text": [
            "225/225 [==============================] - 3s 12ms/step - loss: 1.5996 - accuracy: 0.6070\n"
          ]
        }
      ]
    },
    {
      "cell_type": "code",
      "source": [
        "import matplotlib.pyplot as plt\n",
        "plt.title('Accuracy')\n",
        "plt.plot(emotion_model_info.history['accuracy'])\n",
        "plt.show()\n",
        "plt.title('loss')\n",
        "plt.plot(emotion_model_info.history['loss'])\n",
        "plt.show()"
      ],
      "metadata": {
        "colab": {
          "base_uri": "https://localhost:8080/",
          "height": 545
        },
        "id": "t9n1_DcAeMmb",
        "outputId": "529f161f-322b-4fad-fe9a-b86375511f9d"
      },
      "execution_count": null,
      "outputs": [
        {
          "output_type": "display_data",
          "data": {
            "text/plain": [
              "<Figure size 432x288 with 1 Axes>"
            ],
            "image/png": "[encoded data removed]"
          },
          "metadata": {
            "needs_background": "light"
          }
        },
        {
          "output_type": "display_data",
          "data": {
            "text/plain": [
              "<Figure size 432x288 with 1 Axes>"
            ],
            "image/png": "[encoded data removed]"
          },
          "metadata": {
            "needs_background": "light"
          }
        }
      ]
    },
    {
      "cell_type": "code",
      "source": [
        "emotion_model.save('model.h5')"
      ],
      "metadata": {
        "id": "NadUzYRpLSje"
      },
      "execution_count": null,
      "outputs": []
    },
    {
      "cell_type": "code",
      "source": [
        "from keras.models import load_model\n",
        "emotion_model = load_model('model.h5')"
      ],
      "metadata": {
        "id": "Sh6umlkiMV9t"
      },
      "execution_count": null,
      "outputs": []
    },
    {
      "cell_type": "code",
      "source": [
        "def emotion_analysis(emotions):\n",
        "    objects = ('angry', 'disgust', 'fear', 'happy', 'sad', 'surprise', 'neutral')\n",
        "    y_pos = np.arange(len(objects))\n",
        "    \n",
        "    plt.bar(y_pos, emotions, align='center', alpha=0.5)\n",
        "    plt.xticks(y_pos, objects)\n",
        "    plt.ylabel('percentage')\n",
        "    plt.title('emotion')\n",
        "    \n",
        "    plt.show()"
      ],
      "metadata": {
        "id": "77dLGtV7MiRA"
      },
      "execution_count": null,
      "outputs": []
    },
    {
      "cell_type": "code",
      "source": [
        "import cv2\n",
        "\n",
        "#Testing a file.\n",
        "\n",
        "from keras.preprocessing import image\n",
        "from keras.preprocessing.image import ImageDataGenerator\n",
        "\n",
        "import numpy as np\n",
        "import matplotlib.pyplot as plt\n",
        "\n",
        "\n",
        "file = '/content/test/fear/PrivateTest_1540303.jpg'\n",
        "true_image = image.load_img(file)\n",
        "img = image.load_img(file, color_mode=\"grayscale\", target_size=(48, 48))\n",
        "\n",
        "x = image.img_to_array(img)\n",
        "x = np.expand_dims(x, axis = 0)\n",
        "\n",
        "x =x/ 255\n",
        "\n",
        "custom = emotion_model.predict(x)\n",
        "emotion_analysis(custom[0])\n",
        "\n",
        "x = np.array(x, 'float32')\n",
        "x = x.reshape([48, 48]);\n",
        "\n",
        "\n",
        "plt.imshow(true_image)\n",
        "plt.show()\n"
      ],
      "metadata": {
        "colab": {
          "base_uri": "https://localhost:8080/",
          "height": 531
        },
        "id": "pvwpkcsTMX6A",
        "outputId": "e74ce036-3a6d-4dd7-976c-aabd06efafcb"
      },
      "execution_count": null,
      "outputs": [
        {
          "output_type": "display_data",
          "data": {
            "text/plain": [
              "<Figure size 432x288 with 1 Axes>"
            ],
            "image/png": "[encoded data removed]"
          },
          "metadata": {
            "needs_background": "light"
          }
        },
        {
          "output_type": "display_data",
          "data": {
            "text/plain": [
              "<Figure size 432x288 with 1 Axes>"
            ],
            "image/png": "[encoded data removed]"
          },
          "metadata": {
            "needs_background": "light"
          }
        }
      ]
    },
    {
      "cell_type": "code",
      "source": [
        "from sklearn.metrics import confusion_matrix, classification_report\n",
        "import tensorflow as tf\n",
        "import seaborn as sn"
      ],
      "metadata": {
        "id": "sjg_QhQhVuj8"
      },
      "execution_count": null,
      "outputs": []
    },
    {
      "cell_type": "code",
      "source": [
        "def performance_metrics(model, test):\n",
        "    y_pred = model.predict(test)\n",
        "    y_result = []\n",
        "    for p in y_pred:\n",
        "        y_result.append(np.argmax(p))\n",
        "    \n",
        "    y_actual = []\n",
        "    for i in range(len(test)):\n",
        "        for p in test[i][1]:\n",
        "            y_actual.append(np.argmax(p))\n",
        "    \n",
        "    print(classification_report(y_actual, y_result))\n",
        "    \n",
        "    cm = tf.math.confusion_matrix(labels = y_actual, predictions = y_result)\n",
        "\n",
        "    plt.figure(figsize = (10, 7))\n",
        "    sn.heatmap(cm, annot = True, fmt = 'd')\n",
        "    plt.xlabel('Predicted')\n",
        "    plt.ylabel('Truth')"
      ],
      "metadata": {
        "id": "BxBLi6pZMclu"
      },
      "execution_count": null,
      "outputs": []
    },
    {
      "cell_type": "code",
      "source": [
        "performance_metrics(emotion_model, test_dataset)"
      ],
      "metadata": {
        "colab": {
          "base_uri": "https://localhost:8080/",
          "height": 685
        },
        "id": "C2n4S5UdVJpu",
        "outputId": "b71b30b6-c8af-4497-98da-304df8a531b1"
      },
      "execution_count": null,
      "outputs": [
        {
          "output_type": "stream",
          "name": "stdout",
          "text": [
            "              precision    recall  f1-score   support\n",
            "\n",
            "           0       0.13      0.13      0.13       958\n",
            "           1       0.01      0.01      0.01       111\n",
            "           2       0.14      0.12      0.13      1024\n",
            "           3       0.25      0.27      0.26      1774\n",
            "           4       0.16      0.16      0.16      1233\n",
            "           5       0.17      0.17      0.17      1247\n",
            "           6       0.12      0.12      0.12       831\n",
            "\n",
            "    accuracy                           0.17      7178\n",
            "   macro avg       0.14      0.14      0.14      7178\n",
            "weighted avg       0.17      0.17      0.17      7178\n",
            "\n"
          ]
        },
        {
          "output_type": "display_data",
          "data": {
            "text/plain": [
              "<Figure size 720x504 with 2 Axes>"
            ],
            "image/png": "[encoded data removed]"
          },
          "metadata": {
            "needs_background": "light"
          }
        }
      ]
    },
    {
      "cell_type": "markdown",
      "source": [
        "The Model is able to perform quite well. We can notice that the train and validation losses are decreasing constantly and the train as well as validation accuracy increases constantly. There is no over-fitting in the deep learning model and we are able to achieve an accuracy of about about 60% and validation accuracy of about 60%"
      ],
      "metadata": {
        "id": "Mp7-l0t4e8I4"
      }
    },
    {
      "cell_type": "code",
      "source": [
        ""
      ],
      "metadata": {
        "id": "JrIS6k39WSZS"
      },
      "execution_count": null,
      "outputs": []
    }
  ]
}